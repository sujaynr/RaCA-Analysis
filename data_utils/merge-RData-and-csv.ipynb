{
 "cells": [
  {
   "cell_type": "markdown",
   "metadata": {},
   "source": [
    "# Merging soilDB R dataset with CSV from RaCAxx"
   ]
  },
  {
   "cell_type": "code",
   "execution_count": 5,
   "metadata": {},
   "outputs": [
    {
     "name": "stdout",
     "output_type": "stream",
     "text": [
      "Joining RData with CSV\n"
     ]
    }
   ],
   "source": [
    "# Script to join RData with CSV\n",
    "import pandas as pd\n",
    "import numpy as np\n",
    "import os\n",
    "import sys\n",
    "\n",
    "print(\"Joining RData with CSV\")\n",
    "# Read in the RData file\n",
    "rdata = pd.read_csv(\"RaCA-dataset-with-locations.csv\")\n",
    "# Read in the CSV file\n",
    "csv = pd.read_csv(\"RaCA_samples.csv\")\n"
   ]
  },
  {
   "cell_type": "code",
   "execution_count": 21,
   "metadata": {},
   "outputs": [],
   "source": [
    "# Modify rdata so that the rcapid entry has a \"-\" symbol injected at the second-to-last character in each string.\n",
    "# This is to match the format of the upedonid entry in the csv file.\n",
    "rdata['pedon_id'] = rdata['rcapid'].str[:-1] + '-' + rdata['rcapid'].str[-1:]\n",
    "csv['pedon_id'] = csv['upedonid']"
   ]
  },
  {
   "cell_type": "code",
   "execution_count": 23,
   "metadata": {},
   "outputs": [],
   "source": [
    "# Merge rdata and csv along the pedon_id column\n",
    "joined = pd.merge(rdata, csv, on='pedon_id')"
   ]
  },
  {
   "cell_type": "code",
   "execution_count": 25,
   "metadata": {},
   "outputs": [
    {
     "name": "stdout",
     "output_type": "stream",
     "text": [
      "Done\n"
     ]
    }
   ],
   "source": [
    "# Write the joined dataframe to a CSV file\n",
    "joined.to_csv(\"joined.csv\", index=False, header=True)\n",
    "print(\"Done\")"
   ]
  }
 ],
 "metadata": {
  "kernelspec": {
   "display_name": "RaCAenv",
   "language": "python",
   "name": "python3"
  },
  "language_info": {
   "codemirror_mode": {
    "name": "ipython",
    "version": 3
   },
   "file_extension": ".py",
   "mimetype": "text/x-python",
   "name": "python",
   "nbconvert_exporter": "python",
   "pygments_lexer": "ipython3",
   "version": "3.9.17"
  },
  "orig_nbformat": 4
 },
 "nbformat": 4,
 "nbformat_minor": 2
}
