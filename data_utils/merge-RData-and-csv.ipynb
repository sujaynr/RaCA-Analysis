{
 "cells": [
  {
   "cell_type": "markdown",
   "metadata": {},
   "source": [
    "# Merge datasets to produce final h5py"
   ]
  },
  {
   "cell_type": "code",
   "execution_count": 2,
   "metadata": {},
   "outputs": [],
   "source": [
    "# Script to join RData with CSV\n",
    "import pandas as pd\n",
    "import numpy as np\n",
    "import os\n",
    "import sys\n",
    "\n",
    "# Read in the RData file\n",
    "rdata = pd.read_csv(\"RaCA-dataset-with-locations.csv\")"
   ]
  },
  {
   "cell_type": "markdown",
   "metadata": {},
   "source": [
    "## Collect fields of interest from rdata"
   ]
  },
  {
   "cell_type": "code",
   "execution_count": 3,
   "metadata": {},
   "outputs": [
    {
     "name": "stdout",
     "output_type": "stream",
     "text": [
      "121397\n"
     ]
    }
   ],
   "source": [
    "rdata_fields = ['rcapid','rcasiteid','sample_id'] + [f'{x}' for x in range(365,2501)]\n",
    "rdata['rcasiteid'] = rdata['rcapid'].str[:-1] # Remove the last character from the rcapid column to get the rcasiteid\n",
    "rdata = rdata[rdata_fields] # Filter the rdata dataframe to only include the fields we want\n",
    "\n",
    "# 'lat','long','region','landuse','group'\n",
    "print(len(rdata))\n"
   ]
  },
  {
   "cell_type": "markdown",
   "metadata": {},
   "source": [
    "The RaCA database outputs many duplicate rows. We remove these, keeping the first."
   ]
  },
  {
   "cell_type": "code",
   "execution_count": 4,
   "metadata": {},
   "outputs": [],
   "source": [
    "rdata.drop_duplicates(inplace=True)"
   ]
  },
  {
   "cell_type": "code",
   "execution_count": 5,
   "metadata": {},
   "outputs": [
    {
     "name": "stdout",
     "output_type": "stream",
     "text": [
      "115130\n"
     ]
    }
   ],
   "source": [
    "print(len(rdata))"
   ]
  },
  {
   "cell_type": "markdown",
   "metadata": {},
   "source": [
    "## Open XLSX file from RaCA admins and extract relevant data"
   ]
  },
  {
   "cell_type": "code",
   "execution_count": 6,
   "metadata": {},
   "outputs": [],
   "source": [
    "# Read the data from the sheet named \"RaCA_xy\" in the Excel file\n",
    "racaloc = pd.read_excel(\"RaCA_data_summary_download.xlsx\", sheet_name=\"RaCA_xy\", header=0)\n",
    "\n",
    "racaloc = racaloc.rename(columns={'RaCA_site': 'rcasiteid'})\n",
    "racaloc = racaloc.rename(columns={'Lat': 'lat'})\n",
    "racaloc = racaloc.rename(columns={'Lon': 'long'})\n",
    "racaloc = racaloc.rename(columns={'Region': 'region'})\n",
    "racaloc = racaloc.rename(columns={'Landuse': 'landuse'})\n",
    "racaloc = racaloc.rename(columns={'Group': 'group'})\n",
    "\n",
    "racaloc.drop_duplicates(inplace=True)"
   ]
  },
  {
   "cell_type": "markdown",
   "metadata": {},
   "source": [
    "Does ``racaloc`` contain unique ``rcasiteid`` values?"
   ]
  },
  {
   "cell_type": "code",
   "execution_count": 7,
   "metadata": {},
   "outputs": [
    {
     "name": "stdout",
     "output_type": "stream",
     "text": [
      "Duplicate rcasiteid values in racaloc:\n",
      "['C0508R03']\n",
      "Number of duplicates for each rcasiteid in racaloc:\n",
      "rcasiteid\n",
      "C0508R03    2\n",
      "Name: count, dtype: int64\n"
     ]
    }
   ],
   "source": [
    "duplicates_racaloc = racaloc[racaloc.duplicated(subset='rcasiteid', keep=False)]\n",
    "duplicate_counts_racaloc = duplicates_racaloc['rcasiteid'].value_counts()\n",
    "\n",
    "print(\"Duplicate rcasiteid values in racaloc:\")\n",
    "print(duplicates_racaloc['rcasiteid'].unique())\n",
    "print(\"Number of duplicates for each rcasiteid in racaloc:\")\n",
    "print(duplicate_counts_racaloc)"
   ]
  },
  {
   "cell_type": "markdown",
   "metadata": {},
   "source": [
    "No. Check the duplicate:"
   ]
  },
  {
   "cell_type": "code",
   "execution_count": 8,
   "metadata": {},
   "outputs": [
    {
     "name": "stdout",
     "output_type": "stream",
     "text": [
      "     rcasiteid        lat       long  region landuse  group\n",
      "1515  C0508R03  41.168304 -98.831970       5       R      8\n",
      "1516  C0508R03  41.168306 -98.831972       5       R      8\n"
     ]
    }
   ],
   "source": [
    "duplicates_racaloc = racaloc[racaloc.duplicated(subset='rcasiteid', keep=False)]\n",
    "print(duplicates_racaloc)\n"
   ]
  },
  {
   "cell_type": "markdown",
   "metadata": {},
   "source": [
    "It's okay to remove the duplicate from ``racaloc`` by taking the first value."
   ]
  },
  {
   "cell_type": "code",
   "execution_count": 9,
   "metadata": {},
   "outputs": [],
   "source": [
    "racaloc.drop_duplicates(inplace=True, subset=['rcasiteid'], keep='first')"
   ]
  },
  {
   "cell_type": "markdown",
   "metadata": {},
   "source": [
    "Now get SOC data:"
   ]
  },
  {
   "cell_type": "code",
   "execution_count": 10,
   "metadata": {},
   "outputs": [],
   "source": [
    "racasoc     = pd.read_excel(\"RaCA_data_summary_download.xlsx\", sheet_name=\"RaCA_samples_wmodelBD\", header=0)\n",
    "racasoc_aux = pd.read_excel(\"RaCA_data_summary_download.xlsx\", sheet_name=\"RaCA_samples_wmodelBD\", header=0)\n",
    "\n",
    "racasoc_fields      = ['rcasiteid','sample.id','adod','c_tot_ncs','caco3','n_tot_ncs','s_tot_ncs']\n",
    "racasoc_aux_fields  = ['rcasiteid','sample.id']\n",
    "\n",
    "racasoc = racasoc[racasoc['pedon_no'] == 1]\n",
    "racasoc = racasoc[racasoc_fields]\n",
    "racasoc = racasoc.rename(columns={'sample.id': 'sample_id'})\n",
    "\n",
    "racasoc_aux = racasoc_aux[racasoc_aux['pedon_no'] != 1]\n",
    "racasoc_aux = racasoc_aux[racasoc_aux_fields]\n",
    "racasoc_aux = racasoc_aux.rename(columns={'sample.id': 'sample_id'})"
   ]
  },
  {
   "cell_type": "code",
   "execution_count": 11,
   "metadata": {},
   "outputs": [
    {
     "name": "stdout",
     "output_type": "stream",
     "text": [
      "31347\n",
      "113780\n"
     ]
    }
   ],
   "source": [
    "print(len(racasoc))\n",
    "print(len(racasoc_aux))"
   ]
  },
  {
   "cell_type": "code",
   "execution_count": 12,
   "metadata": {},
   "outputs": [
    {
     "name": "stdout",
     "output_type": "stream",
     "text": [
      "6418\n"
     ]
    }
   ],
   "source": [
    "racaloc.drop_duplicates(inplace=True)\n",
    "print(len(racaloc))"
   ]
  },
  {
   "cell_type": "code",
   "execution_count": 13,
   "metadata": {},
   "outputs": [
    {
     "name": "stdout",
     "output_type": "stream",
     "text": [
      "Duplicate sample_id values in racasoc:\n",
      "[     1     72    117   1918   2529   4052   5167   5168   6150  13543\n",
      "  13902  14772  18658  19333  19424  19875  20893  21114  21542  26153\n",
      "  26798  26992  27002  27761  30093  30327  31998  32550  32572  32853\n",
      "  33035      0  43745  43747  44175  54027  57185  60479  61847  75611\n",
      "  94653  95591  96291  96469  96566  96611  96632  96633 144454  96679\n",
      "  96710  96860  96889  97305  97417 144358  99338  99659  99677  99699\n",
      "  99870  99909 144600 144603 100262 100347 100407 100804 101990 102045\n",
      " 102485 103141 103432 104045 106477 107149 107423 116986 120017 120195\n",
      " 120309 120338 120412 121423 121529 121625 122010 122141 122326 122673\n",
      " 123182 123235 123603 123996 124183 124467 125757 125934 126784 126910\n",
      " 127062 127492 131112 131872 134819 140765 143475 143693  23242  27954\n",
      "  32759 120966 123682 142973]\n",
      "Number of duplicates for each sample_id in racasoc:\n",
      "sample_id\n",
      "5168.0      3\n",
      "1.0         2\n",
      "103432.0    2\n",
      "121529.0    2\n",
      "121423.0    2\n",
      "           ..\n",
      "54027.0     2\n",
      "44175.0     2\n",
      "43747.0     2\n",
      "43745.0     2\n",
      "142973.0    2\n",
      "Name: count, Length: 113, dtype: int64\n"
     ]
    },
    {
     "name": "stderr",
     "output_type": "stream",
     "text": [
      "/var/folders/84/rsxv09b17_n57vhqltwy0p900000gn/T/ipykernel_26920/2650515802.py:5: RuntimeWarning: invalid value encountered in cast\n",
      "  print(duplicates_racasoc['sample_id'].unique().astype(int))\n"
     ]
    }
   ],
   "source": [
    "duplicates_racasoc = racasoc[racasoc.duplicated(subset='sample_id', keep=False)]\n",
    "duplicate_counts_racasoc = duplicates_racasoc['sample_id'].value_counts()\n",
    "\n",
    "print(\"Duplicate sample_id values in racasoc:\")\n",
    "print(duplicates_racasoc['sample_id'].unique().astype(int))\n",
    "print(\"Number of duplicates for each sample_id in racasoc:\")\n",
    "print(duplicate_counts_racasoc)"
   ]
  },
  {
   "cell_type": "code",
   "execution_count": 14,
   "metadata": {},
   "outputs": [
    {
     "name": "stdout",
     "output_type": "stream",
     "text": [
      "       rcasiteid  sample_id      adod  c_tot_ncs      caco3  n_tot_ncs  \\\n",
      "889     C0101F01        1.0  1.122646  48.094150        NaN   2.401340   \n",
      "890     C0101F01        1.0  1.115296  50.142574        NaN   1.621640   \n",
      "964     C0101W06       72.0  1.088957  30.258842  30.627863   2.173558   \n",
      "965     C0101W06       72.0  1.087984  28.499728  25.770186   2.155295   \n",
      "1011    C0101W08      117.0  1.110671  43.963696        NaN   2.399050   \n",
      "...          ...        ...       ...        ...        ...        ...   \n",
      "144248  F1504F06   120966.0  1.002366   0.952248        NaN   0.020047   \n",
      "144418  F1507R03   123682.0  1.009164   2.573367        NaN   0.100916   \n",
      "144419  F1507R03   123682.0  1.005626   1.377707        NaN   0.050281   \n",
      "144963  F1809F94   142973.0  1.025607   4.049098   0.382128   0.390756   \n",
      "144964  F1809F94   142973.0  1.023010   3.105858   0.276200   0.321225   \n",
      "\n",
      "        s_tot_ncs  \n",
      "889      0.187482  \n",
      "890      0.095915  \n",
      "964      0.140475  \n",
      "965      0.193661  \n",
      "1011     0.254344  \n",
      "...           ...  \n",
      "144248   0.000000  \n",
      "144418   0.000000  \n",
      "144419   0.000000  \n",
      "144963   0.037947  \n",
      "144964   0.033759  \n",
      "\n",
      "[232 rows x 7 columns]\n"
     ]
    }
   ],
   "source": [
    "duplicates_racasoc = racasoc[racasoc.duplicated(subset='sample_id', keep=False)]\n",
    "print(duplicates_racasoc)\n"
   ]
  },
  {
   "cell_type": "markdown",
   "metadata": {},
   "source": [
    "We choose to discard these 232 entries entirely, as there is no documentation to explain their duplication."
   ]
  },
  {
   "cell_type": "code",
   "execution_count": 15,
   "metadata": {},
   "outputs": [
    {
     "name": "stdout",
     "output_type": "stream",
     "text": [
      "31347\n",
      "31345\n",
      "31116\n"
     ]
    }
   ],
   "source": [
    "print(len(racasoc))\n",
    "racasoc.drop_duplicates(inplace=True, keep=False)\n",
    "print(len(racasoc))\n",
    "racasoc.drop_duplicates(inplace=True, subset=['sample_id'], keep=False)\n",
    "print(len(racasoc))"
   ]
  },
  {
   "cell_type": "code",
   "execution_count": 16,
   "metadata": {},
   "outputs": [
    {
     "name": "stdout",
     "output_type": "stream",
     "text": [
      "113780\n",
      "113445\n",
      "113439\n"
     ]
    }
   ],
   "source": [
    "print(len(racasoc_aux))\n",
    "racasoc_aux.drop_duplicates(inplace=True, keep=False)\n",
    "print(len(racasoc_aux))\n",
    "racasoc_aux.drop_duplicates(inplace=True, subset=['sample_id'], keep=False)\n",
    "print(len(racasoc_aux))"
   ]
  },
  {
   "cell_type": "markdown",
   "metadata": {},
   "source": [
    "## Merge locations with rdata"
   ]
  },
  {
   "cell_type": "code",
   "execution_count": 80,
   "metadata": {},
   "outputs": [],
   "source": [
    "# Join location data into spectral data\n",
    "joined = pd.merge(rdata, racaloc, on='rcasiteid', how='left', validate='m:1')\n",
    "joined_aux = pd.merge(rdata, racaloc, on='rcasiteid', how='left', validate='m:1')"
   ]
  },
  {
   "cell_type": "code",
   "execution_count": 81,
   "metadata": {},
   "outputs": [
    {
     "name": "stdout",
     "output_type": "stream",
     "text": [
      "115130\n",
      "115130\n"
     ]
    }
   ],
   "source": [
    "print(len(joined))\n",
    "print(len(joined_aux))"
   ]
  },
  {
   "cell_type": "code",
   "execution_count": 82,
   "metadata": {},
   "outputs": [],
   "source": [
    "# Join soil data into spectral data\n",
    "joined = pd.merge(joined, racasoc, on='sample_id', how='inner', validate='1:1')\n",
    "joined_aux = pd.merge(joined_aux, racasoc_aux, on='sample_id', how='inner', validate='1:1')"
   ]
  },
  {
   "cell_type": "code",
   "execution_count": 83,
   "metadata": {},
   "outputs": [
    {
     "name": "stdout",
     "output_type": "stream",
     "text": [
      "24300\n",
      "90779\n",
      "115079\n"
     ]
    }
   ],
   "source": [
    "print(len(joined))\n",
    "print(len(joined_aux))\n",
    "\n",
    "print(len(joined_aux)+len(joined))"
   ]
  },
  {
   "cell_type": "markdown",
   "metadata": {},
   "source": [
    "## Cut out hydration outliers"
   ]
  },
  {
   "cell_type": "markdown",
   "metadata": {},
   "source": [
    "Some of the samples have very high water content:"
   ]
  },
  {
   "cell_type": "code",
   "execution_count": 62,
   "metadata": {},
   "outputs": [
    {
     "data": {
      "image/png": "[encoded data removed]",
      "text/plain": [
       "<Figure size 640x480 with 1 Axes>"
      ]
     },
     "metadata": {},
     "output_type": "display_data"
    }
   ],
   "source": [
    "import matplotlib.pyplot as plt\n",
    "import pandas as pd\n",
    "\n",
    "plt.hist([1-1/x for x in joined['adod']], bins=100)\n",
    "plt.yscale('log')\n",
    "plt.show()\n"
   ]
  },
  {
   "cell_type": "markdown",
   "metadata": {},
   "source": [
    "Let's remove the single outlier at 48% moisture content."
   ]
  },
  {
   "cell_type": "code",
   "execution_count": 84,
   "metadata": {},
   "outputs": [
    {
     "name": "stdout",
     "output_type": "stream",
     "text": [
      "11167\n"
     ]
    }
   ],
   "source": [
    "index_to_drop = joined[joined['adod'].apply(lambda x: 1 - 1/x > 0.4)].index[0]\n",
    "print(index_to_drop)"
   ]
  },
  {
   "cell_type": "code",
   "execution_count": 85,
   "metadata": {},
   "outputs": [
    {
     "data": {
      "text/plain": [
       "'C0706W05'"
      ]
     },
     "execution_count": 85,
     "metadata": {},
     "output_type": "execute_result"
    }
   ],
   "source": [
    "joined.loc[index_to_drop, 'rcapid'][:-1]"
   ]
  },
  {
   "cell_type": "code",
   "execution_count": 87,
   "metadata": {},
   "outputs": [
    {
     "name": "stdout",
     "output_type": "stream",
     "text": [
      "24300\n",
      "90779\n",
      "24299\n",
      "90765\n"
     ]
    }
   ],
   "source": [
    "print(len(joined))\n",
    "print(len(joined_aux))\n",
    "\n",
    "for idx in joined_aux[joined_aux['rcapid'].str.contains(joined.loc[index_to_drop, 'rcapid'][:-1])].index :\n",
    "    joined_aux.drop(idx, inplace=True)\n",
    "\n",
    "joined.drop(index_to_drop, inplace=True)\n",
    "\n",
    "print(len(joined))\n",
    "print(len(joined_aux))\n",
    "\n"
   ]
  },
  {
   "cell_type": "markdown",
   "metadata": {},
   "source": [
    "## Generate SOC data"
   ]
  },
  {
   "cell_type": "markdown",
   "metadata": {},
   "source": [
    "Follow the procedure in the RaCA guidelines to handle caco3 values below 0."
   ]
  },
  {
   "cell_type": "code",
   "execution_count": 88,
   "metadata": {},
   "outputs": [
    {
     "name": "stdout",
     "output_type": "stream",
     "text": [
      "23590\n",
      "0\n"
     ]
    }
   ],
   "source": [
    "print(((joined['c_tot_ncs'] >= 0).astype(int)).sum())\n",
    "print(((joined['c_tot_ncs'] < 0).astype(int)).sum())\n"
   ]
  },
  {
   "cell_type": "code",
   "execution_count": 89,
   "metadata": {},
   "outputs": [
    {
     "name": "stdout",
     "output_type": "stream",
     "text": [
      "23590\n"
     ]
    }
   ],
   "source": [
    "joined = joined.dropna(subset=['c_tot_ncs'])\n",
    "print(len(joined))"
   ]
  },
  {
   "cell_type": "code",
   "execution_count": 90,
   "metadata": {},
   "outputs": [
    {
     "name": "stdout",
     "output_type": "stream",
     "text": [
      "13752\n",
      "487\n"
     ]
    }
   ],
   "source": [
    "print(((joined['caco3'] >= 0).astype(int)).sum())\n",
    "print(((joined['caco3'] < 0).astype(int)).sum())\n",
    "\n",
    "joined['caco3'] = joined['caco3'].fillna(0)\n",
    "joined.loc[joined['caco3'] < 0, 'caco3'] = 0\n"
   ]
  },
  {
   "cell_type": "code",
   "execution_count": 91,
   "metadata": {},
   "outputs": [
    {
     "name": "stdout",
     "output_type": "stream",
     "text": [
      "23590\n",
      "0\n"
     ]
    }
   ],
   "source": [
    "print(((joined['caco3'] >= 0).astype(int)).sum())\n",
    "print(((joined['caco3'] < 0).astype(int)).sum())"
   ]
  },
  {
   "cell_type": "markdown",
   "metadata": {},
   "source": [
    "Now compute SOC:"
   ]
  },
  {
   "cell_type": "code",
   "execution_count": 92,
   "metadata": {},
   "outputs": [],
   "source": [
    "joined['soc'] = joined['c_tot_ncs'] - 0.12*joined['caco3']"
   ]
  },
  {
   "cell_type": "markdown",
   "metadata": {},
   "source": [
    "Let us check how frequently SOC is negative in abundance. Is it consistent with our assumed error of 0.41%?"
   ]
  },
  {
   "cell_type": "code",
   "execution_count": 93,
   "metadata": {},
   "outputs": [
    {
     "data": {
      "image/png": "[encoded data removed]",
      "text/plain": [
       "<Figure size 640x480 with 1 Axes>"
      ]
     },
     "metadata": {},
     "output_type": "display_data"
    },
    {
     "name": "stdout",
     "output_type": "stream",
     "text": [
      "[-8.16789330e-03  5.67551414e-02  1.47441253e+01]\n"
     ]
    }
   ],
   "source": [
    "import numpy as np\n",
    "import matplotlib.pyplot as plt\n",
    "from scipy.optimize import curve_fit\n",
    "\n",
    "# Define the reflected Gaussian function\n",
    "def reflected_gaussian(x, mu, sigma, amplitude):\n",
    "    return amplitude * np.exp(-0.5 * ((x - mu) / sigma) ** 2)\n",
    "\n",
    "# Filter the data for negative SOC values\n",
    "negative_soc = joined[(joined['soc'] < 0)]['soc']\n",
    "\n",
    "# Generate the histogram\n",
    "plt.hist(negative_soc, bins=100, density=True, alpha=0.5, label='Histogram')\n",
    "\n",
    "# Get the histogram data\n",
    "hist, bins = np.histogram(negative_soc, bins=100, density=True)\n",
    "\n",
    "# Get the bin centers\n",
    "bin_centers = (bins[:-1] + bins[1:]) / 2\n",
    "\n",
    "# Fit the reflected Gaussian distribution\n",
    "params, _ = curve_fit(reflected_gaussian, -bin_centers, hist)\n",
    "\n",
    "# Generate the fitted curve\n",
    "x = np.linspace(min(-bin_centers), max(-bin_centers), 100)\n",
    "y = reflected_gaussian(-x, *params)\n",
    "\n",
    "# Plot the fitted curve\n",
    "plt.plot(-x, y, 'r-', label='Reflected Gaussian Fit')\n",
    "\n",
    "# Set the plot labels and legend\n",
    "plt.xlabel('SOC')\n",
    "plt.ylabel('Density')\n",
    "plt.legend()\n",
    "\n",
    "# Show the plot\n",
    "plt.show()\n",
    "print(params)\n"
   ]
  },
  {
   "cell_type": "markdown",
   "metadata": {},
   "source": [
    "It seems to be appropriate if we assume the negative values are all a proxy for the zero-SOC samples. Given this, set all negative-SOC samples to 0."
   ]
  },
  {
   "cell_type": "code",
   "execution_count": 94,
   "metadata": {},
   "outputs": [],
   "source": [
    "joined.loc[joined['soc'] < 0, 'soc'] = 0."
   ]
  },
  {
   "cell_type": "code",
   "execution_count": 95,
   "metadata": {},
   "outputs": [
    {
     "data": {
      "image/png": "[encoded data removed]",
      "text/plain": [
       "<Figure size 640x480 with 1 Axes>"
      ]
     },
     "metadata": {},
     "output_type": "display_data"
    }
   ],
   "source": [
    "plt.hist(joined['soc'], bins=100);\n",
    "plt.yscale('log')\n",
    "plt.show()"
   ]
  },
  {
   "cell_type": "code",
   "execution_count": 96,
   "metadata": {},
   "outputs": [
    {
     "name": "stdout",
     "output_type": "stream",
     "text": [
      "0\n"
     ]
    }
   ],
   "source": [
    "print(((joined['soc'] < 0).astype(int)).sum())"
   ]
  },
  {
   "cell_type": "code",
   "execution_count": 97,
   "metadata": {},
   "outputs": [
    {
     "name": "stdout",
     "output_type": "stream",
     "text": [
      "0\n",
      "23590\n"
     ]
    }
   ],
   "source": [
    "joined[joined['soc'] < 0]['soc'] = 0\n",
    "print(((joined['soc'] < 0).astype(int)).sum())\n",
    "print(((joined['soc'] >= 0).astype(int)).sum())"
   ]
  },
  {
   "cell_type": "markdown",
   "metadata": {},
   "source": [
    "Normalize percentages:"
   ]
  },
  {
   "cell_type": "code",
   "execution_count": 98,
   "metadata": {},
   "outputs": [],
   "source": [
    "joined['soc'] = joined['soc'] / 100\n",
    "joined['c_tot_ncs'] = joined['c_tot_ncs'] / 100\n",
    "joined['caco3'] = joined['c_tot_ncs'] / 100"
   ]
  },
  {
   "cell_type": "code",
   "execution_count": 101,
   "metadata": {},
   "outputs": [
    {
     "data": {
      "image/png": "[encoded data removed]",
      "text/plain": [
       "<Figure size 640x480 with 1 Axes>"
      ]
     },
     "metadata": {},
     "output_type": "display_data"
    }
   ],
   "source": [
    "plt.hist(joined['soc'], bins=100);\n",
    "plt.yscale('log')"
   ]
  },
  {
   "cell_type": "markdown",
   "metadata": {},
   "source": [
    "## Postprocess spectra to remove dead pixels"
   ]
  },
  {
   "cell_type": "markdown",
   "metadata": {},
   "source": [
    "Where are the dead pixels?"
   ]
  },
  {
   "cell_type": "code",
   "execution_count": 102,
   "metadata": {},
   "outputs": [
    {
     "name": "stdout",
     "output_type": "stream",
     "text": [
      "759\n"
     ]
    },
    {
     "data": {
      "image/png": "[encoded data removed]",
      "text/plain": [
       "<Figure size 640x480 with 1 Axes>"
      ]
     },
     "metadata": {},
     "output_type": "display_data"
    }
   ],
   "source": [
    "wavelengths = [x for x in range(365, 2501)]\n",
    "wavelen_txt = [str(x) for x in wavelengths]\n",
    "\n",
    "hist = plt.plot((joined[wavelen_txt] < 0).astype(int).sum(axis=0).to_numpy())\n",
    "plt.yscale('log')\n",
    "print(np.sum((joined[wavelen_txt] < 0).astype(int).to_numpy()))"
   ]
  },
  {
   "cell_type": "code",
   "execution_count": 103,
   "metadata": {},
   "outputs": [
    {
     "name": "stdout",
     "output_type": "stream",
     "text": [
      "3869\n"
     ]
    },
    {
     "data": {
      "image/png": "[encoded data removed]",
      "text/plain": [
       "<Figure size 640x480 with 1 Axes>"
      ]
     },
     "metadata": {},
     "output_type": "display_data"
    }
   ],
   "source": [
    "hist = plt.plot((joined_aux[wavelen_txt] < 0).astype(int).sum(axis=0).to_numpy())\n",
    "plt.yscale('log')\n",
    "print(np.sum((joined_aux[wavelen_txt] < 0).astype(int).to_numpy()))"
   ]
  },
  {
   "cell_type": "markdown",
   "metadata": {},
   "source": [
    "What is the number of spectra that have dead pixels?"
   ]
  },
  {
   "cell_type": "code",
   "execution_count": 104,
   "metadata": {},
   "outputs": [
    {
     "name": "stdout",
     "output_type": "stream",
     "text": [
      "40\n",
      "127\n"
     ]
    }
   ],
   "source": [
    "print(len(joined[(((joined[wavelen_txt] < 0).astype(int) + (joined[wavelen_txt] > 1).astype(int) + (np.isnan(joined[wavelen_txt])).astype(int)).max(axis=1) > 0)]))\n",
    "print(len(joined_aux[(((joined_aux[wavelen_txt] < 0).astype(int) + (joined_aux[wavelen_txt] > 1).astype(int) + (np.isnan(joined_aux[wavelen_txt])).astype(int)).max(axis=1) > 0)]))"
   ]
  },
  {
   "cell_type": "markdown",
   "metadata": {},
   "source": [
    "This is a small number, so delete these 40+127 spectra and check that this worked."
   ]
  },
  {
   "cell_type": "code",
   "execution_count": 105,
   "metadata": {},
   "outputs": [],
   "source": [
    "joined = joined.drop(joined[(((joined[wavelen_txt] < 0).astype(int) + (joined[wavelen_txt] > 1).astype(int) + (np.isnan(joined[wavelen_txt])).astype(int)).max(axis=1) > 0)].index)\n",
    "joined_aux = joined_aux.drop(joined_aux[(((joined_aux[wavelen_txt] < 0).astype(int) + (joined_aux[wavelen_txt] > 1).astype(int) + (np.isnan(joined_aux[wavelen_txt])).astype(int)).max(axis=1) > 0)].index)"
   ]
  },
  {
   "cell_type": "code",
   "execution_count": 107,
   "metadata": {},
   "outputs": [
    {
     "name": "stdout",
     "output_type": "stream",
     "text": [
      "Number of scans with dead pixels: 0\n",
      "Number of scans without dead pixels: 23550\n",
      "Number of aux with dead pixels: 0\n",
      "Number of aux without dead pixels: 90638\n"
     ]
    }
   ],
   "source": [
    "print(\"Number of scans with dead pixels:\",len(joined[(((joined[wavelen_txt] < 0).astype(int) + (joined[wavelen_txt] > 1).astype(int) + (np.isnan(joined[wavelen_txt])).astype(int)).max(axis=1) > 0)]))\n",
    "print(\"Number of scans without dead pixels:\",len(joined[(((joined[wavelen_txt] < 0).astype(int) + (joined[wavelen_txt] > 1).astype(int) + (np.isnan(joined[wavelen_txt])).astype(int)).max(axis=1) == 0)]))\n",
    "\n",
    "print(\"Number of aux with dead pixels:\",len(joined_aux[(((joined_aux[wavelen_txt] < 0).astype(int) + (joined_aux[wavelen_txt] > 1).astype(int) + (np.isnan(joined_aux[wavelen_txt])).astype(int)).max(axis=1) > 0)]))\n",
    "print(\"Number of aux without dead pixels:\",len(joined_aux[(((joined_aux[wavelen_txt] < 0).astype(int) + (joined_aux[wavelen_txt] > 1).astype(int) + (np.isnan(joined_aux[wavelen_txt])).astype(int)).max(axis=1) == 0)]))"
   ]
  },
  {
   "cell_type": "markdown",
   "metadata": {},
   "source": [
    "## Save to file"
   ]
  },
  {
   "cell_type": "code",
   "execution_count": 108,
   "metadata": {},
   "outputs": [
    {
     "data": {
      "text/plain": [
       "['rcapid',\n",
       " 'rcasiteid_x',\n",
       " 'sample_id',\n",
       " 'lat',\n",
       " 'long',\n",
       " 'region',\n",
       " 'landuse',\n",
       " 'group',\n",
       " 'rcasiteid_y',\n",
       " 'adod',\n",
       " 'c_tot_ncs',\n",
       " 'caco3',\n",
       " 'n_tot_ncs',\n",
       " 's_tot_ncs',\n",
       " 'soc']"
      ]
     },
     "execution_count": 108,
     "metadata": {},
     "output_type": "execute_result"
    }
   ],
   "source": [
    "[x for x in joined.columns if x not in wavelen_txt]"
   ]
  },
  {
   "cell_type": "code",
   "execution_count": 110,
   "metadata": {},
   "outputs": [
    {
     "data": {
      "text/plain": [
       "['rcapid',\n",
       " 'rcasiteid_x',\n",
       " 'sample_id',\n",
       " 'lat',\n",
       " 'long',\n",
       " 'region',\n",
       " 'landuse',\n",
       " 'group',\n",
       " 'rcasiteid_y']"
      ]
     },
     "execution_count": 110,
     "metadata": {},
     "output_type": "execute_result"
    }
   ],
   "source": [
    "[x for x in joined_aux.columns if x not in wavelen_txt]"
   ]
  },
  {
   "cell_type": "code",
   "execution_count": 109,
   "metadata": {},
   "outputs": [
    {
     "data": {
      "image/png": "[encoded data removed]",
      "text/plain": [
       "<Figure size 640x480 with 1 Axes>"
      ]
     },
     "metadata": {},
     "output_type": "display_data"
    }
   ],
   "source": [
    "import pandas as pd\n",
    "import matplotlib.pyplot as plt\n",
    "\n",
    "# Access the 'region' column in the 'joined' dataframe\n",
    "region_counts = joined['region'].value_counts()\n",
    "\n",
    "# Create a bar chart\n",
    "plt.bar(region_counts.index, region_counts.values)\n",
    "\n",
    "# Add labels and title\n",
    "plt.xlabel('Region Number')\n",
    "plt.ylabel('Number of Rows')\n",
    "plt.title('Bar Chart of Rows by Region Number')\n",
    "\n",
    "# Set x ticks as integers\n",
    "plt.xticks(region_counts.index)\n",
    "\n",
    "# Display the bar chart\n",
    "plt.show()\n"
   ]
  },
  {
   "cell_type": "code",
   "execution_count": 111,
   "metadata": {},
   "outputs": [
    {
     "data": {
      "image/png": "[encoded data removed]",
      "text/plain": [
       "<Figure size 640x480 with 1 Axes>"
      ]
     },
     "metadata": {},
     "output_type": "display_data"
    }
   ],
   "source": [
    "import pandas as pd\n",
    "import matplotlib.pyplot as plt\n",
    "\n",
    "# Access the 'region' column in the 'joined' dataframe\n",
    "region_counts = joined_aux['region'].value_counts()\n",
    "\n",
    "# Create a bar chart\n",
    "plt.bar(region_counts.index, region_counts.values)\n",
    "\n",
    "# Add labels and title\n",
    "plt.xlabel('Region Number')\n",
    "plt.ylabel('Number of Rows')\n",
    "plt.title('Bar Chart of Rows by Region Number')\n",
    "\n",
    "# Set x ticks as integers\n",
    "plt.xticks(region_counts.index)\n",
    "\n",
    "# Display the bar chart\n",
    "plt.show()\n"
   ]
  },
  {
   "cell_type": "code",
   "execution_count": 113,
   "metadata": {},
   "outputs": [
    {
     "name": "stdout",
     "output_type": "stream",
     "text": [
      "4: 880 rows with min index 1 and max index 19247\n",
      "4: 3215 rows with min index 0 and max index 72219\n",
      "1: 1561 rows with min index 6 and max index 13599\n",
      "1: 5889 rows with min index 18 and max index 51296\n",
      "3: 1159 rows with min index 24 and max index 8904\n",
      "3: 4917 rows with min index 33 and max index 90474\n",
      "2: 1388 rows with min index 84 and max index 21968\n",
      "2: 5742 rows with min index 321 and max index 82428\n",
      "18: 1346 rows with min index 96 and max index 24299\n",
      "18: 5294 rows with min index 380 and max index 90778\n",
      "6: 1217 rows with min index 105 and max index 21978\n",
      "6: 4373 rows with min index 405 and max index 82440\n",
      "9: 1528 rows with min index 112 and max index 23548\n",
      "9: 5916 rows with min index 1370 and max index 88676\n",
      "14: 1446 rows with min index 192 and max index 23144\n",
      "14: 5957 rows with min index 802 and max index 86821\n",
      "10: 1675 rows with min index 681 and max index 21982\n",
      "10: 6479 rows with min index 2614 and max index 82458\n",
      "11: 1800 rows with min index 692 and max index 21988\n",
      "11: 6807 rows with min index 2639 and max index 69826\n",
      "12: 1434 rows with min index 1279 and max index 20136\n",
      "12: 5403 rows with min index 534 and max index 75573\n",
      "16: 1482 rows with min index 1416 and max index 24131\n",
      "16: 5698 rows with min index 4225 and max index 90183\n",
      "7: 1816 rows with min index 2085 and max index 12159\n",
      "7: 7258 rows with min index 2996 and max index 45757\n",
      "8: 1019 rows with min index 2457 and max index 19296\n",
      "8: 3995 rows with min index 9219 and max index 72449\n",
      "13: 1479 rows with min index 2782 and max index 21488\n",
      "13: 5672 rows with min index 10456 and max index 90587\n",
      "5: 1509 rows with min index 2976 and max index 17555\n",
      "5: 5902 rows with min index 11219 and max index 66005\n",
      "15: 811 rows with min index 3665 and max index 23700\n",
      "15: 2121 rows with min index 8439 and max index 88528\n"
     ]
    }
   ],
   "source": [
    "import torch\n",
    "import numpy as np\n",
    "import h5py\n",
    "\n",
    "with h5py.File(\"ICLRDataset_RaCASpectraAndSOC_v3.h5\", 'w') as hRaCA :\n",
    "    with h5py.File(\"ICLRDataset_SplitIndices_v3.h5\",\"w\") as hInds :\n",
    "\n",
    "        for region in joined['region'].unique():\n",
    "            rr = hInds.create_group(f'{region}')\n",
    "\n",
    "            region_rows = joined[joined['region'] == region]\n",
    "            indices = torch.tensor(region_rows.index)\n",
    "            dsetInds = rr.create_dataset(f'indices', data=indices) \n",
    "\n",
    "            region_rows_aux = joined_aux[joined_aux['region'] == region]\n",
    "            indices_aux = torch.tensor(region_rows_aux.index)\n",
    "            dsetInds_aux = rr.create_dataset(f'indices_scanonly', data=indices_aux) \n",
    "\n",
    "            print(f'{region}: {len(region_rows)} rows with min index {region_rows.index.min()} and max index {region_rows.index.max()}')\n",
    "            print(f'{region}: {len(region_rows_aux)} rows with min index {region_rows_aux.index.min()} and max index {region_rows_aux.index.max()}')\n",
    "\n",
    "            # collect all pedons in the region\n",
    "            # using rcapid as the unique id associated to each pedon\n",
    "            # where each pedon can have multiple rows in the region\n",
    "            # and each row has a unique index\n",
    "            # and collect the related pedons from the aux dataset\n",
    "            pedon_ids = region_rows['rcapid'].unique()\n",
    "\n",
    "            for pid in pedon_ids :\n",
    "\n",
    "                # select all rows from the region that are in the pedon\n",
    "                bootstrap_rows = region_rows[region_rows['rcapid'] == pid]\n",
    "\n",
    "                # save the bootstrap rows to the h5 file\n",
    "                pp = rr.create_group(pid)\n",
    "\n",
    "                bootInds = pp.create_dataset(f'indices', data=torch.tensor(bootstrap_rows.index))\n",
    "\n",
    "                # select all related pedons relative to that central pedon\n",
    "                aux_pedon_rows = region_rows_aux[region_rows_aux['rcapid'].str.contains(pid[:-1])]\n",
    "                aux_pedon_ids = aux_pedon_rows['rcapid'].unique()\n",
    "\n",
    "                for aux_pid in aux_pedon_ids :\n",
    "                    aa = pp.create_group(aux_pid)\n",
    "                    bootInds_aux = aa.create_dataset(f'indices_scanonly', data=torch.tensor(aux_pedon_rows[aux_pedon_rows['rcapid'] == aux_pid].index))\n",
    "\n",
    "\n",
    "        for index, row in joined.iterrows():\n",
    "            dsetRaCA = hRaCA.create_dataset(f'{index}', data=torch.tensor(row[wavelen_txt + ['soc','caco3','adod','n_tot_ncs','s_tot_ncs']]))\n",
    "            \n",
    "        for index, row in joined_aux.iterrows():\n",
    "            dsetRaCAAux = hRaCA.create_dataset(f'{index}_scanonly', data=torch.tensor(row[wavelen_txt]))\n",
    "                "
   ]
  },
  {
   "cell_type": "code",
   "execution_count": 114,
   "metadata": {},
   "outputs": [],
   "source": [
    "joined.to_hdf('ICLRDataset_RaCAFullDataset_v3.h5', key='data', mode='w')\n",
    "joined_aux.to_hdf('ICLRDataset_RaCAFullDatasetAux_v3.h5', key='data', mode='w')"
   ]
  }
 ],
 "metadata": {
  "kernelspec": {
   "display_name": "RaCAenv",
   "language": "python",
   "name": "python3"
  },
  "language_info": {
   "codemirror_mode": {
    "name": "ipython",
    "version": 3
   },
   "file_extension": ".py",
   "mimetype": "text/x-python",
   "name": "python",
   "nbconvert_exporter": "python",
   "pygments_lexer": "ipython3",
   "version": "3.11.5"
  },
  "orig_nbformat": 4
 },
 "nbformat": 4,
 "nbformat_minor": 2
}
