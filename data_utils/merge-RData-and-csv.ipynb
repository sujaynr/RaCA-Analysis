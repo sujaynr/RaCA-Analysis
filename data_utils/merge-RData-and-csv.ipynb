{
 "cells": [
  {
   "cell_type": "markdown",
   "metadata": {},
   "source": [
    "# Merge datasets to produce final h5py"
   ]
  },
  {
   "cell_type": "code",
   "execution_count": 1,
   "metadata": {},
   "outputs": [],
   "source": [
    "# Script to join RData with CSV\n",
    "import pandas as pd\n",
    "import numpy as np\n",
    "import os\n",
    "import sys\n",
    "\n",
    "# Read in the RData file\n",
    "rdata = pd.read_csv(\"RaCA-dataset-with-locations.csv\")"
   ]
  },
  {
   "cell_type": "markdown",
   "metadata": {},
   "source": [
    "## Collect fields of interest from rdata"
   ]
  },
  {
   "cell_type": "code",
   "execution_count": 2,
   "metadata": {},
   "outputs": [
    {
     "name": "stdout",
     "output_type": "stream",
     "text": [
      "121397\n"
     ]
    }
   ],
   "source": [
    "rdata_fields = ['rcapid','rcasiteid','sample_id'] + [f'{x}' for x in range(365,2501)]\n",
    "rdata['rcasiteid'] = rdata['rcapid'].str[:-1] # Remove the last character from the rcapid column to get the rcasiteid\n",
    "rdata = rdata[rdata_fields] # Filter the rdata dataframe to only include the fields we want\n",
    "\n",
    "# 'lat','long','region','landuse','group'\n",
    "print(len(rdata))\n"
   ]
  },
  {
   "cell_type": "markdown",
   "metadata": {},
   "source": [
    "The RaCA database outputs many duplicate rows. We remove these, keeping the first."
   ]
  },
  {
   "cell_type": "code",
   "execution_count": 3,
   "metadata": {},
   "outputs": [],
   "source": [
    "rdata.drop_duplicates(inplace=True)"
   ]
  },
  {
   "cell_type": "code",
   "execution_count": 4,
   "metadata": {},
   "outputs": [
    {
     "name": "stdout",
     "output_type": "stream",
     "text": [
      "115130\n"
     ]
    }
   ],
   "source": [
    "print(len(rdata))"
   ]
  },
  {
   "cell_type": "markdown",
   "metadata": {},
   "source": [
    "## Open XLSX file from RaCA admins and extract relevant data"
   ]
  },
  {
   "cell_type": "code",
   "execution_count": 5,
   "metadata": {},
   "outputs": [],
   "source": [
    "# Read the data from the sheet named \"RaCA_xy\" in the Excel file\n",
    "racaloc = pd.read_excel(\"RaCA_data_summary_download.xlsx\", sheet_name=\"RaCA_xy\", header=0)\n",
    "\n",
    "racaloc = racaloc.rename(columns={'RaCA_site': 'rcasiteid'})\n",
    "racaloc = racaloc.rename(columns={'Lat': 'lat'})\n",
    "racaloc = racaloc.rename(columns={'Lon': 'long'})\n",
    "racaloc = racaloc.rename(columns={'Region': 'region'})\n",
    "racaloc = racaloc.rename(columns={'Landuse': 'landuse'})\n",
    "racaloc = racaloc.rename(columns={'Group': 'group'})\n",
    "\n",
    "racaloc.drop_duplicates(inplace=True)"
   ]
  },
  {
   "cell_type": "markdown",
   "metadata": {},
   "source": [
    "Does ``racaloc`` contain unique ``rcasiteid`` values?"
   ]
  },
  {
   "cell_type": "code",
   "execution_count": 6,
   "metadata": {},
   "outputs": [
    {
     "name": "stdout",
     "output_type": "stream",
     "text": [
      "Duplicate rcasiteid values in racaloc:\n",
      "['C0508R03']\n",
      "Number of duplicates for each rcasiteid in racaloc:\n",
      "rcasiteid\n",
      "C0508R03    2\n",
      "Name: count, dtype: int64\n"
     ]
    }
   ],
   "source": [
    "duplicates_racaloc = racaloc[racaloc.duplicated(subset='rcasiteid', keep=False)]\n",
    "duplicate_counts_racaloc = duplicates_racaloc['rcasiteid'].value_counts()\n",
    "\n",
    "print(\"Duplicate rcasiteid values in racaloc:\")\n",
    "print(duplicates_racaloc['rcasiteid'].unique())\n",
    "print(\"Number of duplicates for each rcasiteid in racaloc:\")\n",
    "print(duplicate_counts_racaloc)"
   ]
  },
  {
   "cell_type": "markdown",
   "metadata": {},
   "source": [
    "No. Check the duplicate:"
   ]
  },
  {
   "cell_type": "code",
   "execution_count": 7,
   "metadata": {},
   "outputs": [
    {
     "name": "stdout",
     "output_type": "stream",
     "text": [
      "     rcasiteid        lat       long  region landuse  group\n",
      "1515  C0508R03  41.168304 -98.831970       5       R      8\n",
      "1516  C0508R03  41.168306 -98.831972       5       R      8\n"
     ]
    }
   ],
   "source": [
    "duplicates_racaloc = racaloc[racaloc.duplicated(subset='rcasiteid', keep=False)]\n",
    "print(duplicates_racaloc)\n"
   ]
  },
  {
   "cell_type": "markdown",
   "metadata": {},
   "source": [
    "It's okay to remove the duplicate from ``racaloc`` by taking the first value."
   ]
  },
  {
   "cell_type": "code",
   "execution_count": 8,
   "metadata": {},
   "outputs": [],
   "source": [
    "# Assuming your dataframe is named 'df'\n",
    "racaloc.drop_duplicates(inplace=True, subset=['rcasiteid'], keep='first')"
   ]
  },
  {
   "cell_type": "markdown",
   "metadata": {},
   "source": [
    "Now get SOC data:"
   ]
  },
  {
   "cell_type": "code",
   "execution_count": 9,
   "metadata": {},
   "outputs": [],
   "source": [
    "racasoc = pd.read_excel(\"RaCA_data_summary_download.xlsx\", sheet_name=\"RaCA_samples_wmodelBD\", header=0)\n",
    "racasoc_fields = ['rcasiteid','sample.id','adod','c_tot_ncs','caco3']\n",
    "\n",
    "racasoc = racasoc[racasoc['pedon_no'] == 1]\n",
    "racasoc = racasoc[racasoc_fields]\n",
    "\n",
    "racasoc = racasoc.rename(columns={'sample.id': 'sample_id'})"
   ]
  },
  {
   "cell_type": "code",
   "execution_count": 10,
   "metadata": {},
   "outputs": [
    {
     "name": "stdout",
     "output_type": "stream",
     "text": [
      "31347\n"
     ]
    }
   ],
   "source": [
    "print(len(racasoc))"
   ]
  },
  {
   "cell_type": "code",
   "execution_count": 11,
   "metadata": {},
   "outputs": [
    {
     "name": "stdout",
     "output_type": "stream",
     "text": [
      "31347\n"
     ]
    }
   ],
   "source": [
    "# Assuming your dataframe is named 'df'\n",
    "racaloc.drop_duplicates(inplace=True)\n",
    "print(len(racasoc))"
   ]
  },
  {
   "cell_type": "code",
   "execution_count": 12,
   "metadata": {},
   "outputs": [
    {
     "name": "stdout",
     "output_type": "stream",
     "text": [
      "Duplicate sample_id values in racasoc:\n",
      "[                   1                   72                  117\n",
      "                 1918                 2529                 4052\n",
      "                 5167                 5168                 6150\n",
      "                13543                13902                14772\n",
      "                18658                19333                19424\n",
      "                19875                20893                21114\n",
      "                21542                26153                26798\n",
      "                26992                27002                27761\n",
      "                30093                30327                31998\n",
      "                32550                32572                32853\n",
      "                33035 -9223372036854775808                43745\n",
      "                43747                44175                54027\n",
      "                57185                60479                61847\n",
      "                75611                94653                95591\n",
      "                96291                96469                96566\n",
      "                96611                96632                96633\n",
      "               144454                96679                96710\n",
      "                96860                96889                97305\n",
      "                97417               144358                99338\n",
      "                99659                99677                99699\n",
      "                99870                99909               144600\n",
      "               144603               100262               100347\n",
      "               100407               100804               101990\n",
      "               102045               102485               103141\n",
      "               103432               104045               106477\n",
      "               107149               107423               116986\n",
      "               120017               120195               120309\n",
      "               120338               120412               121423\n",
      "               121529               121625               122010\n",
      "               122141               122326               122673\n",
      "               123182               123235               123603\n",
      "               123996               124183               124467\n",
      "               125757               125934               126784\n",
      "               126910               127062               127492\n",
      "               131112               131872               134819\n",
      "               140765               143475               143693\n",
      "                23242                27954                32759\n",
      "               120966               123682               142973]\n",
      "Number of duplicates for each sample_id in racasoc:\n",
      "sample_id\n",
      "5168.0      3\n",
      "1.0         2\n",
      "103432.0    2\n",
      "121529.0    2\n",
      "121423.0    2\n",
      "           ..\n",
      "54027.0     2\n",
      "44175.0     2\n",
      "43747.0     2\n",
      "43745.0     2\n",
      "142973.0    2\n",
      "Name: count, Length: 113, dtype: int64\n"
     ]
    },
    {
     "name": "stderr",
     "output_type": "stream",
     "text": [
      "/tmp/ipykernel_3466101/2650515802.py:5: RuntimeWarning: invalid value encountered in cast\n",
      "  print(duplicates_racasoc['sample_id'].unique().astype(int))\n"
     ]
    }
   ],
   "source": [
    "duplicates_racasoc = racasoc[racasoc.duplicated(subset='sample_id', keep=False)]\n",
    "duplicate_counts_racasoc = duplicates_racasoc['sample_id'].value_counts()\n",
    "\n",
    "print(\"Duplicate sample_id values in racasoc:\")\n",
    "print(duplicates_racasoc['sample_id'].unique().astype(int))\n",
    "print(\"Number of duplicates for each sample_id in racasoc:\")\n",
    "print(duplicate_counts_racasoc)"
   ]
  },
  {
   "cell_type": "code",
   "execution_count": 13,
   "metadata": {},
   "outputs": [
    {
     "name": "stdout",
     "output_type": "stream",
     "text": [
      "       rcasiteid  sample_id      adod  c_tot_ncs      caco3\n",
      "889     C0101F01        1.0  1.122646  48.094150        NaN\n",
      "890     C0101F01        1.0  1.115296  50.142574        NaN\n",
      "964     C0101W06       72.0  1.088957  30.258842  30.627863\n",
      "965     C0101W06       72.0  1.087984  28.499728  25.770186\n",
      "1011    C0101W08      117.0  1.110671  43.963696        NaN\n",
      "...          ...        ...       ...        ...        ...\n",
      "144248  F1504F06   120966.0  1.002366   0.952248        NaN\n",
      "144418  F1507R03   123682.0  1.009164   2.573367        NaN\n",
      "144419  F1507R03   123682.0  1.005626   1.377707        NaN\n",
      "144963  F1809F94   142973.0  1.025607   4.049098   0.382128\n",
      "144964  F1809F94   142973.0  1.023010   3.105858   0.276200\n",
      "\n",
      "[232 rows x 5 columns]\n"
     ]
    }
   ],
   "source": [
    "duplicates_racasoc = racasoc[racasoc.duplicated(subset='sample_id', keep=False)]\n",
    "print(duplicates_racasoc)\n"
   ]
  },
  {
   "cell_type": "markdown",
   "metadata": {},
   "source": [
    "We choose to discard these 232 entries entirely, as there is no documentation to explain their duplication."
   ]
  },
  {
   "cell_type": "code",
   "execution_count": 14,
   "metadata": {},
   "outputs": [
    {
     "name": "stdout",
     "output_type": "stream",
     "text": [
      "31347\n",
      "31345\n",
      "31116\n"
     ]
    }
   ],
   "source": [
    "print(len(racasoc))\n",
    "racasoc.drop_duplicates(inplace=True, keep=False)\n",
    "print(len(racasoc))\n",
    "racasoc.drop_duplicates(inplace=True, subset=['sample_id'], keep=False)\n",
    "print(len(racasoc))"
   ]
  },
  {
   "cell_type": "markdown",
   "metadata": {},
   "source": [
    "## Merge locations with rdata"
   ]
  },
  {
   "cell_type": "code",
   "execution_count": 15,
   "metadata": {},
   "outputs": [],
   "source": [
    "# Join location data into spectral data\n",
    "joined = pd.merge(rdata, racaloc, on='rcasiteid', how='left', validate='m:1')"
   ]
  },
  {
   "cell_type": "code",
   "execution_count": 16,
   "metadata": {},
   "outputs": [],
   "source": [
    "# Join soil data into spectral data\n",
    "joined = pd.merge(joined, racasoc, on='sample_id', how='inner', validate='1:1')"
   ]
  },
  {
   "cell_type": "code",
   "execution_count": 17,
   "metadata": {},
   "outputs": [
    {
     "data": {
      "text/plain": [
       "24300"
      ]
     },
     "execution_count": 17,
     "metadata": {},
     "output_type": "execute_result"
    }
   ],
   "source": [
    "len(joined)"
   ]
  },
  {
   "cell_type": "markdown",
   "metadata": {},
   "source": [
    "## Cut out hydration outliers"
   ]
  },
  {
   "cell_type": "markdown",
   "metadata": {},
   "source": [
    "Some of the samples have very high water content:"
   ]
  },
  {
   "cell_type": "code",
   "execution_count": 18,
   "metadata": {},
   "outputs": [
    {
     "data": {
      "image/png": "[encoded data removed]",
      "text/plain": [
       "<Figure size 640x480 with 1 Axes>"
      ]
     },
     "metadata": {},
     "output_type": "display_data"
    }
   ],
   "source": [
    "import matplotlib.pyplot as plt\n",
    "import pandas as pd\n",
    "\n",
    "plt.hist([1-1/x for x in joined['adod']], bins=100)\n",
    "plt.yscale('log')\n",
    "plt.show()\n"
   ]
  },
  {
   "cell_type": "markdown",
   "metadata": {},
   "source": [
    "Let's remove the single outlier at 48% moisture content."
   ]
  },
  {
   "cell_type": "code",
   "execution_count": 19,
   "metadata": {},
   "outputs": [],
   "source": [
    "index_to_drop = joined[joined['adod'].apply(lambda x: 1 - 1/x > 0.4)].index[0]\n",
    "joined.drop(index_to_drop, inplace=True)"
   ]
  },
  {
   "cell_type": "markdown",
   "metadata": {},
   "source": [
    "## Generate SOC data"
   ]
  },
  {
   "cell_type": "markdown",
   "metadata": {},
   "source": [
    "Follow the procedure in the RaCA guidelines to handle caco3 values below 0."
   ]
  },
  {
   "cell_type": "code",
   "execution_count": 20,
   "metadata": {},
   "outputs": [
    {
     "name": "stdout",
     "output_type": "stream",
     "text": [
      "23590\n",
      "0\n"
     ]
    }
   ],
   "source": [
    "print(((joined['c_tot_ncs'] >= 0).astype(int)).sum())\n",
    "print(((joined['c_tot_ncs'] < 0).astype(int)).sum())\n"
   ]
  },
  {
   "cell_type": "code",
   "execution_count": 21,
   "metadata": {},
   "outputs": [
    {
     "name": "stdout",
     "output_type": "stream",
     "text": [
      "23590\n"
     ]
    }
   ],
   "source": [
    "joined = joined.dropna(subset=['c_tot_ncs'])\n",
    "print(len(joined))"
   ]
  },
  {
   "cell_type": "code",
   "execution_count": 22,
   "metadata": {},
   "outputs": [
    {
     "name": "stdout",
     "output_type": "stream",
     "text": [
      "13752\n",
      "487\n"
     ]
    }
   ],
   "source": [
    "print(((joined['caco3'] >= 0).astype(int)).sum())\n",
    "print(((joined['caco3'] < 0).astype(int)).sum())\n",
    "\n",
    "joined['caco3'] = joined['caco3'].fillna(0)\n",
    "joined.loc[joined['caco3'] < 0, 'caco3'] = 0\n"
   ]
  },
  {
   "cell_type": "code",
   "execution_count": 23,
   "metadata": {},
   "outputs": [
    {
     "name": "stdout",
     "output_type": "stream",
     "text": [
      "23590\n",
      "0\n"
     ]
    }
   ],
   "source": [
    "print(((joined['caco3'] >= 0).astype(int)).sum())\n",
    "print(((joined['caco3'] < 0).astype(int)).sum())"
   ]
  },
  {
   "cell_type": "markdown",
   "metadata": {},
   "source": [
    "Now compute SOC:"
   ]
  },
  {
   "cell_type": "code",
   "execution_count": 24,
   "metadata": {},
   "outputs": [],
   "source": [
    "joined['soc'] = joined['c_tot_ncs'] - 0.12*joined['caco3']"
   ]
  },
  {
   "cell_type": "markdown",
   "metadata": {},
   "source": [
    "Let us check how frequently SOC is negative in abundance. Is it consistent with our assumed error of 0.41%?"
   ]
  },
  {
   "cell_type": "code",
   "execution_count": 68,
   "metadata": {},
   "outputs": [
    {
     "data": {
      "image/png": "[encoded data removed]",
      "text/plain": [
       "<Figure size 640x480 with 1 Axes>"
      ]
     },
     "metadata": {},
     "output_type": "display_data"
    },
    {
     "name": "stdout",
     "output_type": "stream",
     "text": [
      "[-8.16789414e-03  5.67551424e-02  1.47441252e+01]\n"
     ]
    }
   ],
   "source": [
    "import numpy as np\n",
    "import matplotlib.pyplot as plt\n",
    "from scipy.optimize import curve_fit\n",
    "\n",
    "# Define the reflected Gaussian function\n",
    "def reflected_gaussian(x, mu, sigma, amplitude):\n",
    "    return amplitude * np.exp(-0.5 * ((x - mu) / sigma) ** 2)\n",
    "\n",
    "# Filter the data for negative SOC values\n",
    "negative_soc = joined[(joined['soc'] < 0)]['soc']\n",
    "\n",
    "# Generate the histogram\n",
    "plt.hist(negative_soc, bins=100, density=True, alpha=0.5, label='Histogram')\n",
    "\n",
    "# Get the histogram data\n",
    "hist, bins = np.histogram(negative_soc, bins=100, density=True)\n",
    "\n",
    "# Get the bin centers\n",
    "bin_centers = (bins[:-1] + bins[1:]) / 2\n",
    "\n",
    "# Fit the reflected Gaussian distribution\n",
    "params, _ = curve_fit(reflected_gaussian, -bin_centers, hist)\n",
    "\n",
    "# Generate the fitted curve\n",
    "x = np.linspace(min(-bin_centers), max(-bin_centers), 100)\n",
    "y = reflected_gaussian(-x, *params)\n",
    "\n",
    "# Plot the fitted curve\n",
    "plt.plot(-x, y, 'r-', label='Reflected Gaussian Fit')\n",
    "\n",
    "# Set the plot labels and legend\n",
    "plt.xlabel('SOC')\n",
    "plt.ylabel('Density')\n",
    "plt.legend()\n",
    "\n",
    "# Show the plot\n",
    "plt.show()\n",
    "print(params)\n"
   ]
  },
  {
   "cell_type": "markdown",
   "metadata": {},
   "source": [
    "It seems to be appropriate if we assume the negative values are all a proxy for the zero-SOC samples. Given this, set all negative-SOC samples to 0."
   ]
  },
  {
   "cell_type": "code",
   "execution_count": 71,
   "metadata": {},
   "outputs": [],
   "source": [
    "joined.loc[joined['soc'] < 0, 'soc'] = 0."
   ]
  },
  {
   "cell_type": "code",
   "execution_count": 72,
   "metadata": {},
   "outputs": [
    {
     "data": {
      "image/png": "[encoded data removed]",
      "text/plain": [
       "<Figure size 640x480 with 1 Axes>"
      ]
     },
     "metadata": {},
     "output_type": "display_data"
    }
   ],
   "source": [
    "plt.hist(joined['soc'], bins=100);\n",
    "plt.yscale('log')\n",
    "plt.show()"
   ]
  },
  {
   "cell_type": "code",
   "execution_count": 184,
   "metadata": {},
   "outputs": [
    {
     "name": "stdout",
     "output_type": "stream",
     "text": [
      "161\n"
     ]
    }
   ],
   "source": [
    "print(((joined['soc'] < 0).astype(int)).sum())"
   ]
  },
  {
   "cell_type": "code",
   "execution_count": 186,
   "metadata": {},
   "outputs": [
    {
     "name": "stdout",
     "output_type": "stream",
     "text": [
      "0\n",
      "23590\n"
     ]
    }
   ],
   "source": [
    "joined[joined['soc'] < 0] = 0\n",
    "print(((joined['soc'] < 0).astype(int)).sum())\n",
    "print(((joined['soc'] >= 0).astype(int)).sum())"
   ]
  },
  {
   "cell_type": "markdown",
   "metadata": {},
   "source": [
    "Normalize percentages:"
   ]
  },
  {
   "cell_type": "code",
   "execution_count": 100,
   "metadata": {},
   "outputs": [],
   "source": [
    "joined['soc'] = joined['soc'] / 100\n",
    "joined['c_tot_ncs'] = joined['c_tot_ncs'] / 100\n",
    "joined['caco3'] = joined['c_tot_ncs'] / 100"
   ]
  },
  {
   "cell_type": "code",
   "execution_count": 102,
   "metadata": {},
   "outputs": [
    {
     "data": {
      "image/png": "[encoded data removed]",
      "text/plain": [
       "<Figure size 640x480 with 1 Axes>"
      ]
     },
     "metadata": {},
     "output_type": "display_data"
    }
   ],
   "source": [
    "plt.hist(joined['soc'], bins=100);\n",
    "plt.yscale('log')"
   ]
  },
  {
   "cell_type": "markdown",
   "metadata": {},
   "source": [
    "## Postprocess spectra to remove dead pixels"
   ]
  },
  {
   "cell_type": "markdown",
   "metadata": {},
   "source": [
    "Where are the dead pixels?"
   ]
  },
  {
   "cell_type": "code",
   "execution_count": 77,
   "metadata": {},
   "outputs": [
    {
     "name": "stdout",
     "output_type": "stream",
     "text": [
      "759\n"
     ]
    },
    {
     "data": {
      "image/png": "[encoded data removed]",
      "text/plain": [
       "<Figure size 640x480 with 1 Axes>"
      ]
     },
     "metadata": {},
     "output_type": "display_data"
    }
   ],
   "source": [
    "wavelengths = [x for x in range(365, 2501)]\n",
    "wavelen_txt = [str(x) for x in wavelengths]\n",
    "\n",
    "hist = plt.plot((joined[wavelen_txt] < 0).astype(int).sum(axis=0).to_numpy())\n",
    "plt.yscale('log')\n",
    "print(np.sum((joined[wavelen_txt] < 0).astype(int).to_numpy()))"
   ]
  },
  {
   "cell_type": "markdown",
   "metadata": {},
   "source": [
    "What is the number of spectra that have dead pixels?"
   ]
  },
  {
   "cell_type": "code",
   "execution_count": 91,
   "metadata": {},
   "outputs": [
    {
     "data": {
      "text/plain": [
       "40"
      ]
     },
     "execution_count": 91,
     "metadata": {},
     "output_type": "execute_result"
    }
   ],
   "source": [
    "len(joined[(((joined[wavelen_txt] < 0).astype(int) + (joined[wavelen_txt] > 1).astype(int) + (np.isnan(joined[wavelen_txt])).astype(int)).max(axis=1) > 0)])"
   ]
  },
  {
   "cell_type": "markdown",
   "metadata": {},
   "source": [
    "This is a small number, so delete these 40 spectra and check that this worked."
   ]
  },
  {
   "cell_type": "code",
   "execution_count": 92,
   "metadata": {},
   "outputs": [],
   "source": [
    "joined = joined.drop(joined[(((joined[wavelen_txt] < 0).astype(int) + (joined[wavelen_txt] > 1).astype(int) + (np.isnan(joined[wavelen_txt])).astype(int)).max(axis=1) > 0)].index)\n"
   ]
  },
  {
   "cell_type": "code",
   "execution_count": 99,
   "metadata": {},
   "outputs": [
    {
     "name": "stdout",
     "output_type": "stream",
     "text": [
      "Number of scans with dead pixels: 0\n",
      "Number of scans without dead pixels: 23550\n"
     ]
    }
   ],
   "source": [
    "print(\"Number of scans with dead pixels:\",len(joined[(((joined[wavelen_txt] < 0).astype(int) + (joined[wavelen_txt] > 1).astype(int) + (np.isnan(joined[wavelen_txt])).astype(int)).max(axis=1) > 0)]))\n",
    "print(\"Number of scans without dead pixels:\",len(joined[(((joined[wavelen_txt] < 0).astype(int) + (joined[wavelen_txt] > 1).astype(int) + (np.isnan(joined[wavelen_txt])).astype(int)).max(axis=1) == 0)]))"
   ]
  },
  {
   "cell_type": "markdown",
   "metadata": {},
   "source": [
    "## Save to file"
   ]
  },
  {
   "cell_type": "code",
   "execution_count": 106,
   "metadata": {},
   "outputs": [
    {
     "data": {
      "text/plain": [
       "['rcapid',\n",
       " 'rcasiteid_x',\n",
       " 'sample_id',\n",
       " 'lat',\n",
       " 'long',\n",
       " 'region',\n",
       " 'landuse',\n",
       " 'group',\n",
       " 'rcasiteid_y',\n",
       " 'adod',\n",
       " 'c_tot_ncs',\n",
       " 'caco3',\n",
       " 'soc']"
      ]
     },
     "execution_count": 106,
     "metadata": {},
     "output_type": "execute_result"
    }
   ],
   "source": [
    "[x for x in joined.columns if x not in wavelen_txt]"
   ]
  },
  {
   "cell_type": "code",
   "execution_count": 117,
   "metadata": {},
   "outputs": [
    {
     "data": {
      "image/png": "[encoded data removed]",
      "text/plain": [
       "<Figure size 640x480 with 1 Axes>"
      ]
     },
     "metadata": {},
     "output_type": "display_data"
    }
   ],
   "source": [
    "import pandas as pd\n",
    "import matplotlib.pyplot as plt\n",
    "\n",
    "# Access the 'region' column in the 'joined' dataframe\n",
    "region_counts = joined['region'].value_counts()\n",
    "\n",
    "# Create a bar chart\n",
    "plt.bar(region_counts.index, region_counts.values)\n",
    "\n",
    "# Add labels and title\n",
    "plt.xlabel('Region Number')\n",
    "plt.ylabel('Number of Rows')\n",
    "plt.title('Bar Chart of Rows by Region Number')\n",
    "\n",
    "# Set x ticks as integers\n",
    "plt.xticks(region_counts.index)\n",
    "\n",
    "# Display the bar chart\n",
    "plt.show()\n"
   ]
  },
  {
   "cell_type": "code",
   "execution_count": 133,
   "metadata": {},
   "outputs": [
    {
     "name": "stdout",
     "output_type": "stream",
     "text": [
      "4: 880 rows with min index 1 and max index 19247\n",
      "4 bootstrap 0: 44 bootstrap rows with min index 1568 and max index 10420\n",
      "4 bootstrap 1: 47 bootstrap rows with min index 454 and max index 6663\n",
      "4 bootstrap 2: 48 bootstrap rows with min index 421 and max index 7839\n",
      "4 bootstrap 3: 44 bootstrap rows with min index 479 and max index 6494\n",
      "4 bootstrap 4: 53 bootstrap rows with min index 1 and max index 7845\n",
      "4 bootstrap 5: 40 bootstrap rows with min index 1 and max index 6463\n",
      "4 bootstrap 6: 47 bootstrap rows with min index 2004 and max index 10381\n",
      "4 bootstrap 7: 50 bootstrap rows with min index 421 and max index 6490\n",
      "4 bootstrap 8: 50 bootstrap rows with min index 503 and max index 19247\n",
      "4 bootstrap 9: 45 bootstrap rows with min index 1346 and max index 19247\n",
      "1: 1561 rows with min index 6 and max index 13599\n",
      "1 bootstrap 0: 52 bootstrap rows with min index 177 and max index 2345\n",
      "1 bootstrap 1: 46 bootstrap rows with min index 36 and max index 2327\n",
      "1 bootstrap 2: 42 bootstrap rows with min index 21 and max index 2373\n",
      "1 bootstrap 3: 50 bootstrap rows with min index 68 and max index 2311\n",
      "1 bootstrap 4: 48 bootstrap rows with min index 400 and max index 7834\n",
      "1 bootstrap 5: 37 bootstrap rows with min index 36 and max index 2367\n",
      "1 bootstrap 6: 38 bootstrap rows with min index 78 and max index 4411\n",
      "1 bootstrap 7: 41 bootstrap rows with min index 75 and max index 2322\n",
      "1 bootstrap 8: 43 bootstrap rows with min index 21 and max index 2230\n",
      "1 bootstrap 9: 47 bootstrap rows with min index 42 and max index 1965\n",
      "3: 1159 rows with min index 24 and max index 8904\n",
      "3 bootstrap 0: 31 bootstrap rows with min index 1432 and max index 5196\n",
      "3 bootstrap 1: 39 bootstrap rows with min index 1241 and max index 5093\n",
      "3 bootstrap 2: 35 bootstrap rows with min index 731 and max index 5151\n",
      "3 bootstrap 3: 34 bootstrap rows with min index 469 and max index 5203\n",
      "3 bootstrap 4: 42 bootstrap rows with min index 731 and max index 6591\n",
      "3 bootstrap 5: 31 bootstrap rows with min index 831 and max index 8904\n",
      "3 bootstrap 6: 41 bootstrap rows with min index 881 and max index 4788\n",
      "3 bootstrap 7: 26 bootstrap rows with min index 974 and max index 5152\n",
      "3 bootstrap 8: 37 bootstrap rows with min index 3819 and max index 5200\n",
      "3 bootstrap 9: 40 bootstrap rows with min index 1484 and max index 6591\n",
      "2: 1388 rows with min index 84 and max index 21968\n",
      "2 bootstrap 0: 42 bootstrap rows with min index 2768 and max index 9899\n",
      "2 bootstrap 1: 47 bootstrap rows with min index 2612 and max index 4010\n",
      "2 bootstrap 2: 43 bootstrap rows with min index 2420 and max index 4255\n",
      "2 bootstrap 3: 45 bootstrap rows with min index 2532 and max index 4229\n",
      "2 bootstrap 4: 44 bootstrap rows with min index 1763 and max index 21968\n",
      "2 bootstrap 5: 43 bootstrap rows with min index 2786 and max index 9787\n",
      "2 bootstrap 6: 51 bootstrap rows with min index 1769 and max index 13257\n",
      "2 bootstrap 7: 46 bootstrap rows with min index 1763 and max index 4288\n",
      "2 bootstrap 8: 49 bootstrap rows with min index 2441 and max index 4072\n",
      "2 bootstrap 9: 45 bootstrap rows with min index 1681 and max index 13257\n",
      "18: 1346 rows with min index 96 and max index 24299\n",
      "18 bootstrap 0: 37 bootstrap rows with min index 8559 and max index 21212\n",
      "18 bootstrap 1: 38 bootstrap rows with min index 7821 and max index 24284\n",
      "18 bootstrap 2: 39 bootstrap rows with min index 14361 and max index 23326\n",
      "18 bootstrap 3: 33 bootstrap rows with min index 16472 and max index 21349\n",
      "18 bootstrap 4: 46 bootstrap rows with min index 8559 and max index 22068\n",
      "18 bootstrap 5: 40 bootstrap rows with min index 8540 and max index 21792\n",
      "18 bootstrap 6: 42 bootstrap rows with min index 8550 and max index 24181\n",
      "18 bootstrap 7: 39 bootstrap rows with min index 96 and max index 20304\n",
      "18 bootstrap 8: 46 bootstrap rows with min index 7821 and max index 23247\n",
      "18 bootstrap 9: 43 bootstrap rows with min index 14361 and max index 23814\n",
      "6: 1217 rows with min index 105 and max index 21978\n",
      "6 bootstrap 0: 32 bootstrap rows with min index 4808 and max index 10859\n",
      "6 bootstrap 1: 36 bootstrap rows with min index 2490 and max index 10857\n",
      "6 bootstrap 2: 44 bootstrap rows with min index 4442 and max index 10783\n",
      "6 bootstrap 3: 39 bootstrap rows with min index 6117 and max index 10424\n",
      "6 bootstrap 4: 33 bootstrap rows with min index 4720 and max index 10836\n",
      "6 bootstrap 5: 41 bootstrap rows with min index 7895 and max index 10789\n",
      "6 bootstrap 6: 41 bootstrap rows with min index 4470 and max index 21978\n",
      "6 bootstrap 7: 39 bootstrap rows with min index 6636 and max index 10320\n",
      "6 bootstrap 8: 42 bootstrap rows with min index 10127 and max index 10836\n",
      "6 bootstrap 9: 35 bootstrap rows with min index 4834 and max index 10755\n",
      "9: 1528 rows with min index 112 and max index 23548\n",
      "9 bootstrap 0: 47 bootstrap rows with min index 6875 and max index 14039\n",
      "9 bootstrap 1: 48 bootstrap rows with min index 12466 and max index 14151\n",
      "9 bootstrap 2: 35 bootstrap rows with min index 8116 and max index 14501\n",
      "9 bootstrap 3: 43 bootstrap rows with min index 6871 and max index 14501\n",
      "9 bootstrap 4: 40 bootstrap rows with min index 7722 and max index 14180\n",
      "9 bootstrap 5: 37 bootstrap rows with min index 351 and max index 14595\n",
      "9 bootstrap 6: 40 bootstrap rows with min index 8058 and max index 14225\n",
      "9 bootstrap 7: 39 bootstrap rows with min index 6901 and max index 13890\n",
      "9 bootstrap 8: 47 bootstrap rows with min index 7714 and max index 14242\n",
      "9 bootstrap 9: 44 bootstrap rows with min index 6897 and max index 14595\n",
      "14: 1446 rows with min index 192 and max index 23144\n",
      "14 bootstrap 0: 42 bootstrap rows with min index 20382 and max index 22790\n",
      "14 bootstrap 1: 35 bootstrap rows with min index 20346 and max index 23016\n",
      "14 bootstrap 2: 37 bootstrap rows with min index 3018 and max index 23090\n",
      "14 bootstrap 3: 42 bootstrap rows with min index 20243 and max index 23106\n",
      "14 bootstrap 4: 38 bootstrap rows with min index 13830 and max index 22598\n",
      "14 bootstrap 5: 36 bootstrap rows with min index 13830 and max index 22598\n",
      "14 bootstrap 6: 48 bootstrap rows with min index 20218 and max index 23118\n",
      "14 bootstrap 7: 42 bootstrap rows with min index 21320 and max index 23077\n",
      "14 bootstrap 8: 44 bootstrap rows with min index 21622 and max index 23118\n",
      "14 bootstrap 9: 39 bootstrap rows with min index 20258 and max index 23052\n",
      "10: 1675 rows with min index 681 and max index 21982\n",
      "10 bootstrap 0: 46 bootstrap rows with min index 7037 and max index 16238\n",
      "10 bootstrap 1: 42 bootstrap rows with min index 3551 and max index 16186\n",
      "10 bootstrap 2: 41 bootstrap rows with min index 7022 and max index 16186\n",
      "10 bootstrap 3: 44 bootstrap rows with min index 681 and max index 16312\n",
      "10 bootstrap 4: 43 bootstrap rows with min index 3540 and max index 16323\n",
      "10 bootstrap 5: 46 bootstrap rows with min index 686 and max index 16357\n",
      "10 bootstrap 6: 43 bootstrap rows with min index 6736 and max index 15972\n",
      "10 bootstrap 7: 46 bootstrap rows with min index 3544 and max index 16351\n",
      "10 bootstrap 8: 47 bootstrap rows with min index 6736 and max index 16115\n",
      "10 bootstrap 9: 45 bootstrap rows with min index 686 and max index 16186\n",
      "11: 1800 rows with min index 692 and max index 21988\n",
      "11 bootstrap 0: 51 bootstrap rows with min index 15119 and max index 18138\n",
      "11 bootstrap 1: 45 bootstrap rows with min index 7481 and max index 18579\n",
      "11 bootstrap 2: 49 bootstrap rows with min index 3359 and max index 18083\n",
      "11 bootstrap 3: 46 bootstrap rows with min index 14823 and max index 18053\n",
      "11 bootstrap 4: 40 bootstrap rows with min index 14657 and max index 21988\n",
      "11 bootstrap 5: 55 bootstrap rows with min index 15109 and max index 18043\n",
      "11 bootstrap 6: 49 bootstrap rows with min index 14823 and max index 17597\n",
      "11 bootstrap 7: 51 bootstrap rows with min index 3359 and max index 18089\n",
      "11 bootstrap 8: 49 bootstrap rows with min index 11311 and max index 18043\n",
      "11 bootstrap 9: 52 bootstrap rows with min index 11280 and max index 18256\n",
      "12: 1434 rows with min index 1279 and max index 20136\n",
      "12 bootstrap 0: 41 bootstrap rows with min index 8211 and max index 20132\n",
      "12 bootstrap 1: 38 bootstrap rows with min index 16202 and max index 19980\n",
      "12 bootstrap 2: 46 bootstrap rows with min index 7786 and max index 20122\n",
      "12 bootstrap 3: 36 bootstrap rows with min index 16433 and max index 20122\n",
      "12 bootstrap 4: 32 bootstrap rows with min index 16197 and max index 20128\n",
      "12 bootstrap 5: 40 bootstrap rows with min index 3671 and max index 19912\n",
      "12 bootstrap 6: 46 bootstrap rows with min index 16720 and max index 20077\n",
      "12 bootstrap 7: 44 bootstrap rows with min index 14635 and max index 20060\n",
      "12 bootstrap 8: 41 bootstrap rows with min index 8214 and max index 19435\n",
      "12 bootstrap 9: 37 bootstrap rows with min index 17953 and max index 20117\n",
      "16: 1482 rows with min index 1416 and max index 24131\n",
      "16 bootstrap 0: 40 bootstrap rows with min index 6843 and max index 23874\n",
      "16 bootstrap 1: 46 bootstrap rows with min index 13349 and max index 23885\n",
      "16 bootstrap 2: 40 bootstrap rows with min index 7181 and max index 24090\n",
      "16 bootstrap 3: 45 bootstrap rows with min index 8618 and max index 24100\n",
      "16 bootstrap 4: 46 bootstrap rows with min index 7140 and max index 24131\n",
      "16 bootstrap 5: 46 bootstrap rows with min index 7816 and max index 24032\n",
      "16 bootstrap 6: 45 bootstrap rows with min index 8618 and max index 23885\n",
      "16 bootstrap 7: 46 bootstrap rows with min index 8780 and max index 24066\n",
      "16 bootstrap 8: 40 bootstrap rows with min index 7816 and max index 24100\n",
      "16 bootstrap 9: 42 bootstrap rows with min index 8780 and max index 24048\n",
      "7: 1816 rows with min index 2085 and max index 12159\n",
      "7 bootstrap 0: 49 bootstrap rows with min index 6168 and max index 12088\n",
      "7 bootstrap 1: 55 bootstrap rows with min index 5245 and max index 12155\n",
      "7 bootstrap 2: 49 bootstrap rows with min index 3432 and max index 12120\n",
      "7 bootstrap 3: 51 bootstrap rows with min index 5840 and max index 12088\n",
      "7 bootstrap 4: 41 bootstrap rows with min index 5245 and max index 12081\n",
      "7 bootstrap 5: 44 bootstrap rows with min index 5715 and max index 12148\n",
      "7 bootstrap 6: 42 bootstrap rows with min index 5608 and max index 11942\n",
      "7 bootstrap 7: 52 bootstrap rows with min index 2085 and max index 12098\n",
      "7 bootstrap 8: 50 bootstrap rows with min index 5344 and max index 12042\n",
      "7 bootstrap 9: 42 bootstrap rows with min index 5226 and max index 12120\n",
      "8: 1019 rows with min index 2457 and max index 19296\n",
      "8 bootstrap 0: 34 bootstrap rows with min index 3106 and max index 12451\n",
      "8 bootstrap 1: 33 bootstrap rows with min index 2588 and max index 12832\n",
      "8 bootstrap 2: 28 bootstrap rows with min index 2468 and max index 12596\n",
      "8 bootstrap 3: 34 bootstrap rows with min index 3093 and max index 12736\n",
      "8 bootstrap 4: 33 bootstrap rows with min index 2585 and max index 12621\n",
      "8 bootstrap 5: 32 bootstrap rows with min index 2764 and max index 12683\n",
      "8 bootstrap 6: 36 bootstrap rows with min index 10259 and max index 12751\n",
      "8 bootstrap 7: 28 bootstrap rows with min index 3745 and max index 12852\n",
      "8 bootstrap 8: 32 bootstrap rows with min index 3083 and max index 12852\n",
      "8 bootstrap 9: 28 bootstrap rows with min index 2466 and max index 15607\n",
      "13: 1479 rows with min index 2782 and max index 21488\n",
      "13 bootstrap 0: 53 bootstrap rows with min index 16832 and max index 21284\n",
      "13 bootstrap 1: 47 bootstrap rows with min index 16522 and max index 21345\n",
      "13 bootstrap 2: 42 bootstrap rows with min index 7810 and max index 21406\n",
      "13 bootstrap 3: 42 bootstrap rows with min index 16401 and max index 21379\n",
      "13 bootstrap 4: 47 bootstrap rows with min index 15704 and max index 21341\n",
      "13 bootstrap 5: 46 bootstrap rows with min index 16861 and max index 21430\n",
      "13 bootstrap 6: 49 bootstrap rows with min index 17247 and max index 21468\n",
      "13 bootstrap 7: 43 bootstrap rows with min index 17069 and max index 21314\n",
      "13 bootstrap 8: 44 bootstrap rows with min index 3016 and max index 21284\n",
      "13 bootstrap 9: 43 bootstrap rows with min index 17220 and max index 21300\n",
      "5: 1509 rows with min index 2976 and max index 17555\n",
      "5 bootstrap 0: 45 bootstrap rows with min index 2976 and max index 9715\n",
      "5 bootstrap 1: 49 bootstrap rows with min index 2976 and max index 9407\n",
      "5 bootstrap 2: 47 bootstrap rows with min index 6885 and max index 9750\n",
      "5 bootstrap 3: 43 bootstrap rows with min index 6824 and max index 8720\n",
      "5 bootstrap 4: 38 bootstrap rows with min index 6135 and max index 9798\n",
      "5 bootstrap 5: 43 bootstrap rows with min index 6808 and max index 9806\n",
      "5 bootstrap 6: 50 bootstrap rows with min index 6800 and max index 9524\n",
      "5 bootstrap 7: 46 bootstrap rows with min index 6745 and max index 9715\n",
      "5 bootstrap 8: 42 bootstrap rows with min index 6013 and max index 9581\n",
      "5 bootstrap 9: 48 bootstrap rows with min index 6767 and max index 9495\n",
      "15: 811 rows with min index 3665 and max index 23700\n",
      "15 bootstrap 0: 33 bootstrap rows with min index 18414 and max index 23344\n",
      "15 bootstrap 1: 39 bootstrap rows with min index 14139 and max index 23691\n",
      "15 bootstrap 2: 45 bootstrap rows with min index 14379 and max index 23635\n",
      "15 bootstrap 3: 42 bootstrap rows with min index 20760 and max index 23539\n",
      "15 bootstrap 4: 32 bootstrap rows with min index 21747 and max index 23674\n",
      "15 bootstrap 5: 35 bootstrap rows with min index 21706 and max index 23640\n",
      "15 bootstrap 6: 28 bootstrap rows with min index 14540 and max index 23657\n",
      "15 bootstrap 7: 46 bootstrap rows with min index 13672 and max index 23654\n",
      "15 bootstrap 8: 37 bootstrap rows with min index 21765 and max index 23602\n",
      "15 bootstrap 9: 44 bootstrap rows with min index 13468 and max index 23568\n"
     ]
    }
   ],
   "source": [
    "import torch\n",
    "import numpy as np\n",
    "\n",
    "with h5py.File(\"ICLRDataset_RaCASpectraAndSOC.h5\", 'w') as hRaCA :\n",
    "    with h5py.File(\"ICLRDataset_SplitIndices.h5\",\"w\") as hInds :\n",
    "\n",
    "        for region in joined['region'].unique():\n",
    "            region_rows = joined[joined['region'] == region]\n",
    "            indices = torch.tensor(region_rows.index)\n",
    "            dsetInds = hInds.create_dataset(f'{region}_indices', data=indices) \n",
    "\n",
    "            print(f'{region}: {len(region_rows)} rows with min index {region_rows.index.min()} and max index {region_rows.index.max()}')\n",
    "\n",
    "            # select 10 random pedons from the region\n",
    "            # using rcapid as the unique id associated to each pedon\n",
    "            # where each pedon can have multiple rows in the region\n",
    "            # and each row has a unique index\n",
    "            pedon_ids = region_rows['rcapid'].unique()\n",
    "\n",
    "            for bootstrap_index in range(10) :\n",
    "\n",
    "                # select 10 unique random pedons from the region\n",
    "                bootstrap_pedons = np.random.choice(pedon_ids, 10, replace=False)\n",
    "\n",
    "                # select all rows from the region that are in the 10 random pedons\n",
    "                bootstrap_rows = region_rows[region_rows['rcapid'].isin(bootstrap_pedons)]\n",
    "\n",
    "                # save the bootstrap rows to the h5 file\n",
    "                bootInds = hInds.create_dataset(f'{region}_bootstrap_{bootstrap_index}', data=torch.tensor(bootstrap_rows.index))\n",
    "\n",
    "                print(f'{region} bootstrap {bootstrap_index}: {len(bootstrap_rows)} bootstrap rows with min index {bootstrap_rows.index.min()} and max index {bootstrap_rows.index.max()}')\n",
    "\n",
    "\n",
    "        for index, row in joined.iterrows():\n",
    "            dsetRaCA = hRaCA.create_dataset(f'{index}', data=torch.tensor(row[wavelen_txt + ['soc']]))\n",
    "                "
   ]
  }
 ],
 "metadata": {
  "kernelspec": {
   "display_name": "RaCAenv",
   "language": "python",
   "name": "python3"
  },
  "language_info": {
   "codemirror_mode": {
    "name": "ipython",
    "version": 3
   },
   "file_extension": ".py",
   "mimetype": "text/x-python",
   "name": "python",
   "nbconvert_exporter": "python",
   "pygments_lexer": "ipython3",
   "version": "3.11.5"
  },
  "orig_nbformat": 4
 },
 "nbformat": 4,
 "nbformat_minor": 2
}
